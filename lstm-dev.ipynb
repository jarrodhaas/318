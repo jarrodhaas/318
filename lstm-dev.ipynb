{
 "cells": [
  {
   "cell_type": "code",
   "execution_count": 53,
   "metadata": {},
   "outputs": [],
   "source": [
    "import keras\n",
    "import numpy as np\n",
    "import pandas as pd\n",
    "from keras.models import Sequential\n",
    "from keras.layers import Dense\n",
    "from keras.layers import LSTM\n",
    "import matplotlib.pyplot as plt"
   ]
  },
  {
   "cell_type": "code",
   "execution_count": 46,
   "metadata": {},
   "outputs": [],
   "source": [
    "tw = pd.read_csv('tw1.csv', header=None)\n",
    "batch_size=1\n",
    "twx = tw.as_matrix().reshape(batch_size, int(tw1.as_matrix().flatten().shape[0] / batch_size), 1)\n",
    "twy = tw.shift(1).fillna(-1).as_matrix()"
   ]
  },
  {
   "cell_type": "code",
   "execution_count": 47,
   "metadata": {},
   "outputs": [],
   "source": [
    "model = Sequential()\n",
    "model.add(LSTM(10,\n",
    "    input_shape = (batch_size,1),\n",
    "    return_sequences=True))\n",
    "model.add(Dense(1))\n",
    "model.compile(loss='mean_squared_error', optimizer='adam')"
   ]
  },
  {
   "cell_type": "code",
   "execution_count": 49,
   "metadata": {},
   "outputs": [
    {
     "name": "stdout",
     "output_type": "stream",
     "text": [
      "Epoch 1/10\n",
      "780/780 [==============================] - 3s - loss: 4.3013     \n",
      "Epoch 2/10\n",
      "780/780 [==============================] - 0s - loss: 3.8064     \n",
      "Epoch 3/10\n",
      "780/780 [==============================] - 0s - loss: 3.3216     \n",
      "Epoch 4/10\n",
      "780/780 [==============================] - 0s - loss: 2.8611     \n",
      "Epoch 5/10\n",
      "780/780 [==============================] - 0s - loss: 2.4284     \n",
      "Epoch 6/10\n",
      "780/780 [==============================] - 0s - loss: 2.0279     \n",
      "Epoch 7/10\n",
      "780/780 [==============================] - 0s - loss: 1.6793     \n",
      "Epoch 8/10\n",
      "780/780 [==============================] - 0s - loss: 1.3810     \n",
      "Epoch 9/10\n",
      "780/780 [==============================] - 0s - loss: 1.1454     \n",
      "Epoch 10/10\n",
      "780/780 [==============================] - 0s - loss: 0.9628     \n"
     ]
    },
    {
     "data": {
      "text/plain": [
       "<keras.callbacks.History at 0x11f6539e8>"
      ]
     },
     "execution_count": 49,
     "metadata": {},
     "output_type": "execute_result"
    }
   ],
   "source": [
    "x_test = tw.as_matrix().reshape(int(tw1.as_matrix().flatten().shape[0] / batch_size), batch_size, 1)\n",
    "y_test = twy.reshape(int(tw1.as_matrix().flatten().shape[0] / batch_size), batch_size, 1)\n",
    "model.fit(x_test, y_test)"
   ]
  },
  {
   "cell_type": "code",
   "execution_count": 59,
   "metadata": {},
   "outputs": [
    {
     "data": {
      "image/png": "[encoded data removed]",
      "text/plain": [
       "<matplotlib.figure.Figure at 0x120720668>"
      ]
     },
     "metadata": {},
     "output_type": "display_data"
    }
   ],
   "source": [
    "original = x_test.flatten()\n",
    "prediction = model.predict(x_test).flatten()\n",
    "\n",
    "plt.plot(prediction, 'g', alpha=0.5)\n",
    "plt.plot(original, 'r', alpha=0.5)\n",
    "plt.plot(original - prediction)\n",
    "plt.show()"
   ]
  },
  {
   "cell_type": "code",
   "execution_count": null,
   "metadata": {
    "collapsed": true
   },
   "outputs": [],
   "source": []
  }
 ],
 "metadata": {
  "kernelspec": {
   "display_name": "tensorflow",
   "language": "python",
   "name": "myenv"
  },
  "language_info": {
   "codemirror_mode": {
    "name": "ipython",
    "version": 3
   },
   "file_extension": ".py",
   "mimetype": "text/x-python",
   "name": "python",
   "nbconvert_exporter": "python",
   "pygments_lexer": "ipython3",
   "version": "3.6.1"
  }
 },
 "nbformat": 4,
 "nbformat_minor": 2
}
